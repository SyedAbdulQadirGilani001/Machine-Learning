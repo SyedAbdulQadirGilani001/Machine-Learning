{
 "cells": [
  {
   "cell_type": "code",
   "execution_count": 1,
   "metadata": {},
   "outputs": [
    {
     "name": "stdout",
     "output_type": "stream",
     "text": [
      "[  9  12  33  90 201 384]\n"
     ]
    }
   ],
   "source": [
    "# 1\n",
    "import numpy as np # for linear algebra\n",
    " \n",
    "d = 2 # dimension of the array\n",
    "m = 3 # multiplier\n",
    "\n",
    "array = np.arange(0, 6) # create an array of integers from 0 to 5\n",
    "\n",
    "array = array ** 3 # raise every element of the array to the power of 3\n",
    "\n",
    "array = array + m # add m to every element of the array\n",
    "\n",
    "array = array * m # multiply every element of the array by m\n",
    " \n",
    "print(array) # print the array"
   ]
  },
  {
   "cell_type": "code",
   "execution_count": null,
   "metadata": {},
   "outputs": [],
   "source": []
  }
 ],
 "metadata": {
  "kernelspec": {
   "display_name": "base",
   "language": "python",
   "name": "python3"
  },
  "language_info": {
   "codemirror_mode": {
    "name": "ipython",
    "version": 3
   },
   "file_extension": ".py",
   "mimetype": "text/x-python",
   "name": "python",
   "nbconvert_exporter": "python",
   "pygments_lexer": "ipython3",
   "version": "3.10.12"
  },
  "orig_nbformat": 4
 },
 "nbformat": 4,
 "nbformat_minor": 2
}
