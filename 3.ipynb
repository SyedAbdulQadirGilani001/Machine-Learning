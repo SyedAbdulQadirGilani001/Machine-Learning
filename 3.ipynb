{
 "cells": [
  {
   "cell_type": "code",
   "execution_count": 4,
   "metadata": {},
   "outputs": [
    {
     "name": "stdout",
     "output_type": "stream",
     "text": [
      "[[0 2]\n",
      " [3 3]\n",
      " [4 4]\n",
      " [6 7]]\n",
      "----------------\n",
      "[[0 2 4 4]\n",
      " [3 3 6 7]]\n",
      "----------------\n",
      "[[0 2 4 4]\n",
      " [3 3 6 7]\n",
      " [0 2 4 4]\n",
      " [3 3 6 7]]\n",
      "----------------\n",
      "[[0 2 0 2]\n",
      " [3 3 3 3]\n",
      " [4 4 4 4]\n",
      " [6 7 6 7]]\n"
     ]
    }
   ],
   "source": [
    "import numpy as np # import numpy library as np\n",
    "\n",
    "array_1 = np.array([[0, d], [m, 3]]) # create a 2-by-2 array of zeros and assign it to array_1\n",
    "array_2 = np.array([[4, 2 * d], [2 * m, 7]]) # create a 2-by-2 array of ones and assign it to array_2\n",
    "\n",
    "array_3 = np.vstack((array_1, array_2)) # Use vertical stacking to create the 4-by-2 array named array_3 with array_2 stacked on top of array_1.\n",
    "\n",
    "array_4 = np.hstack((array_1, array_2)) # Use horizontal stacking to create the 2-by-4 array named array_4 with array_2 to the right of array_1.\n",
    "\n",
    "array_5 = np.vstack((array_4, array_4)) # Use vertical stacking with two copies of array_4 to create a 4-by-4 array_5.\n",
    "\n",
    "array_6 = np.hstack((array_3, array_3)) # Use horizontal stacking with two copies of array_3 to create a 4-by-4 array_6.\n",
    "\n",
    "print(array_3) # 4-by-2 array_3\n",
    "print('----------------') # separator\n",
    "print(array_4) # 2-by-4 array_4\n",
    "print('----------------') # separator\n",
    "print(array_5) # 4-by-4 array_5\n",
    "print('----------------')\n",
    "print(array_6) # 4-by-4 array_6"
   ]
  },
  {
   "cell_type": "code",
   "execution_count": null,
   "metadata": {},
   "outputs": [],
   "source": []
  }
 ],
 "metadata": {
  "kernelspec": {
   "display_name": "base",
   "language": "python",
   "name": "python3"
  },
  "language_info": {
   "codemirror_mode": {
    "name": "ipython",
    "version": 3
   },
   "file_extension": ".py",
   "mimetype": "text/x-python",
   "name": "python",
   "nbconvert_exporter": "python",
   "pygments_lexer": "ipython3",
   "version": "3.10.12"
  },
  "orig_nbformat": 4
 },
 "nbformat": 4,
 "nbformat_minor": 2
}
