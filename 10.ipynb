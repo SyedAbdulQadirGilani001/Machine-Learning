{
 "cells": [
  {
   "cell_type": "code",
   "execution_count": 1,
   "metadata": {},
   "outputs": [
    {
     "name": "stdout",
     "output_type": "stream",
     "text": [
      "Number of digits: 3\n",
      "Number of non-digit characters: 22\n",
      "Number of whitespace characters: 5\n",
      "Number of words: 6\n"
     ]
    }
   ],
   "source": [
    "import re # Regular expression operations\n",
    "\n",
    "def count_characters(text): # text is a string\n",
    "  \"\"\"Counts the number of digits, non-digit characters, whitespace characters and words in a string.\"\"\" # docstring\n",
    "  digits = re.findall(r'\\d', text) # \\d matches any decimal digit; equivalent to the set [0-9]\n",
    "  non_digits = re.findall(r'\\D', text) # \\D matches any non-decimal digit; equivalent to the set [^0-9]\n",
    "  whitespace = re.findall(r'\\s', text) # \\s matches any whitespace character; equivalent to the set [ \\t\\n\\r\\f\\v]\n",
    "  words = re.findall(r'\\w+', text) # \\w matches any alphanumeric character; equivalent to the set [a-zA-Z0-9_]\n",
    "\n",
    "  return len(digits), len(non_digits), len(whitespace), len(words) # return a tuple\n",
    "\n",
    "def main(): # main function\n",
    "  \"\"\"Reads a line of text as a string and prints the number of digits, non-digit characters, whitespace characters and words in the string.\"\"\" # docstring\n",
    "  text = 'The dog ate the bone. 123' # string\n",
    "  digits, non_digits, whitespace, words = count_characters(text) # unpacking\n",
    "\n",
    "  print('Number of digits:', digits) # print function for digits\n",
    "  print('Number of non-digit characters:', non_digits) # print function for non-digit characters\n",
    "  print('Number of whitespace characters:', whitespace) # print function for whitespace\n",
    "  print('Number of words:', words) # print function for words   \n",
    "\n",
    "if __name__ == '__main__': # if statement for main function\n",
    "  main() # call main function if true"
   ]
  },
  {
   "cell_type": "code",
   "execution_count": null,
   "metadata": {},
   "outputs": [],
   "source": []
  }
 ],
 "metadata": {
  "kernelspec": {
   "display_name": "base",
   "language": "python",
   "name": "python3"
  },
  "language_info": {
   "codemirror_mode": {
    "name": "ipython",
    "version": 3
   },
   "file_extension": ".py",
   "mimetype": "text/x-python",
   "name": "python",
   "nbconvert_exporter": "python",
   "pygments_lexer": "ipython3",
   "version": "3.10.12"
  },
  "orig_nbformat": 4
 },
 "nbformat": 4,
 "nbformat_minor": 2
}
