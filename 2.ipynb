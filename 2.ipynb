{
 "cells": [
  {
   "cell_type": "code",
   "execution_count": 3,
   "metadata": {},
   "outputs": [
    {
     "name": "stdout",
     "output_type": "stream",
     "text": [
      "[ 9 10 11 12] \n",
      "\n",
      "[ 4  8 12] \n",
      "\n",
      "[[1 2 3 4]\n",
      " [5 6 7 8]] \n",
      "\n"
     ]
    }
   ],
   "source": [
    "import numpy as np\n",
    "\n",
    "d = 3 # dimension of the array\n",
    "\n",
    "array = np.arange(1, 13) # create an array of integers from 1 to 12\n",
    "array = array.reshape(d, d + 1) # reshape the array to be d x (d + 1)\n",
    "\n",
    "print(array[d - 1, :],'\\n') # Select row d - 1 (the last row)\n",
    "\n",
    "print(array[:, d],'\\n') # Select column d (the last column)\n",
    "\n",
    "print(array[[0, 1], :],'\\n') # Select rows 0 and 1 (the first two rows)\n",
    "\n"
   ]
  },
  {
   "cell_type": "code",
   "execution_count": null,
   "metadata": {},
   "outputs": [],
   "source": []
  }
 ],
 "metadata": {
  "kernelspec": {
   "display_name": "base",
   "language": "python",
   "name": "python3"
  },
  "language_info": {
   "codemirror_mode": {
    "name": "ipython",
    "version": 3
   },
   "file_extension": ".py",
   "mimetype": "text/x-python",
   "name": "python",
   "nbconvert_exporter": "python",
   "pygments_lexer": "ipython3",
   "version": "3.10.12"
  },
  "orig_nbformat": 4
 },
 "nbformat": 4,
 "nbformat_minor": 2
}
