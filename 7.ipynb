{
 "cells": [
  {
   "cell_type": "code",
   "execution_count": 1,
   "metadata": {},
   "outputs": [
    {
     "name": "stdout",
     "output_type": "stream",
     "text": [
      "An tree saw next to an tree.\n",
      "A dog heard on a dog.\n",
      "An dog heard next to an dog.\n",
      "The dog heard under the dog.\n",
      "The tree ate on the tree.\n",
      "The tree ran next to the tree.\n",
      "A tree ran in a tree.\n",
      "A house ran under a house.\n",
      "An house jumped next to an house.\n",
      "The house jumped on the house.\n"
     ]
    }
   ],
   "source": [
    "import random # random for random.choice() function\n",
    "\n",
    "def generate_sentence():  # function name\n",
    "  \"\"\"Generates a sentence by selecting a word at random from each array in the following order: article, noun, verb, preposition, article and noun.\"\"\" # docstring\n",
    "  article = random.choice(['the', 'a', 'an']) # random.choice() function \n",
    "  noun = random.choice(['dog', 'cat', 'mouse', 'house', 'tree']) # random.choice() function\n",
    "  verb = random.choice(['ate', 'ran', 'jumped', 'saw', 'heard']) # random.choice() function for verb\n",
    "  preposition = random.choice(['in', 'on', 'under', 'behind', 'next to']) # random.choice() function for preposition \n",
    "  sentence = article + ' ' + noun + ' ' + verb + ' ' + preposition + ' ' + article + ' ' + noun + '.' # sentence \n",
    "  return sentence.capitalize() # capitalize() function\n",
    "\n",
    "def main(): # main function\n",
    "  \"\"\"Generates and displays m sentences.\"\"\" # docstring\n",
    "  m = 10 # number of sentences\n",
    "  for i in range(m): # for loop\n",
    "    sentence = generate_sentence() # generate_sentence() function\n",
    "    print(sentence) # print sentence\n",
    "\n",
    "if __name__ == '__main__': # if statement\n",
    "  main() # main function"
   ]
  },
  {
   "cell_type": "code",
   "execution_count": null,
   "metadata": {},
   "outputs": [],
   "source": []
  }
 ],
 "metadata": {
  "kernelspec": {
   "display_name": "base",
   "language": "python",
   "name": "python3"
  },
  "language_info": {
   "codemirror_mode": {
    "name": "ipython",
    "version": 3
   },
   "file_extension": ".py",
   "mimetype": "text/x-python",
   "name": "python",
   "nbconvert_exporter": "python",
   "pygments_lexer": "ipython3",
   "version": "3.10.12"
  },
  "orig_nbformat": 4
 },
 "nbformat": 4,
 "nbformat_minor": 2
}
