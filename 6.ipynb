{
 "cells": [
  {
   "cell_type": "code",
   "execution_count": 1,
   "metadata": {},
   "outputs": [
    {
     "name": "stdout",
     "output_type": "stream",
     "text": [
      "Tokens in reverse order: ['thirsty', 'is', 'Fox']\n",
      "Tokens beginning with the letter \"d\": []\n",
      "Tokens ending with the letters \"ing\": []\n"
     ]
    }
   ],
   "source": [
    "def reverse_tokens(tokens):\n",
    "  \"\"\"Returns the tokens in reverse order.\"\"\"\n",
    "  reversed_tokens = []\n",
    "  for token in tokens[::-1]:\n",
    "    reversed_tokens.append(token)\n",
    "  return reversed_tokens\n",
    "\n",
    "def filter_tokens_starting_with_d(tokens): # define a function named filter_tokens_starting_with_d that takes a list of tokens as an argument\n",
    "  \"\"\"Returns only those words beginning with the letter 'd'.\"\"\"  # docstring\n",
    "  filtered_tokens = [] # create an empty list named filtered_tokens\n",
    "  for token in tokens: # for each token in the list of tokens\n",
    "    if token[0] == 'd': # if the first letter of the token is 'd'\n",
    "      filtered_tokens.append(token) # append the token to the list of filtered tokens\n",
    "  return filtered_tokens # return the list of filtered tokens\n",
    "\n",
    "def filter_tokens_ending_with_ing(tokens): # define a function named filter_tokens_ending_with_ing that takes a list of tokens as an argument\n",
    "  \"\"\"Returns only those words ending with the letters 'ing'.\"\"\" # docstring\n",
    "  filtered_tokens = [] # create an empty list named filtered_tokens\n",
    "  for token in tokens: # for each token in the list of tokens\n",
    "    if token.endswith('ing'): # if the token ends with 'ing'\n",
    "      filtered_tokens.append(token) # append the token to the list of filtered tokens\n",
    "  return filtered_tokens # return the list of filtered tokens\n",
    "\n",
    "def main(): # define a function named main\n",
    "  \"\"\"Reads a line of text as a string, tokenizes the string with the split() method,\n",
    "  passes the tokenized string list to each of the function mentioned above and prints\n",
    "  the return values from these functions.\"\"\" # docstring\n",
    "  line = input('Enter a line of text: ') # prompt the user to enter a line of text\n",
    "  tokens = line.split() # split the line of text into tokens\n",
    "\n",
    "  print('Tokens in reverse order:', reverse_tokens(tokens)) # print the return value of the reverse_tokens function\n",
    "  print('Tokens beginning with the letter \"d\":', filter_tokens_starting_with_d(tokens)) # print the return value of the filter_tokens_starting_with_d function\n",
    "  print('Tokens ending with the letters \"ing\":', filter_tokens_ending_with_ing(tokens)) # print the return value of the filter_tokens_ending_with_ing function\n",
    "\n",
    "if __name__ == '__main__': # if the program is run as a standalone program\n",
    "  main() # call the main function"
   ]
  },
  {
   "cell_type": "code",
   "execution_count": null,
   "metadata": {},
   "outputs": [],
   "source": []
  }
 ],
 "metadata": {
  "kernelspec": {
   "display_name": "base",
   "language": "python",
   "name": "python3"
  },
  "language_info": {
   "codemirror_mode": {
    "name": "ipython",
    "version": 3
   },
   "file_extension": ".py",
   "mimetype": "text/x-python",
   "name": "python",
   "nbconvert_exporter": "python",
   "pygments_lexer": "ipython3",
   "version": "3.10.12"
  },
  "orig_nbformat": 4
 },
 "nbformat": 4,
 "nbformat_minor": 2
}
