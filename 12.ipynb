{
 "cells": [
  {
   "cell_type": "code",
   "execution_count": 3,
   "metadata": {},
   "outputs": [
    {
     "ename": "FileNotFoundError",
     "evalue": "[Errno 2] No such file or directory: 'speech.txt'",
     "output_type": "error",
     "traceback": [
      "\u001b[1;31m---------------------------------------------------------------------------\u001b[0m",
      "\u001b[1;31mFileNotFoundError\u001b[0m                         Traceback (most recent call last)",
      "Cell \u001b[1;32mIn[3], line 49\u001b[0m\n\u001b[0;32m     46\u001b[0m     \u001b[39mprint\u001b[39m(word)\n\u001b[0;32m     48\u001b[0m \u001b[39mif\u001b[39;00m \u001b[39m__name__\u001b[39m \u001b[39m==\u001b[39m \u001b[39m'\u001b[39m\u001b[39m__main__\u001b[39m\u001b[39m'\u001b[39m:\n\u001b[1;32m---> 49\u001b[0m   main()\n",
      "Cell \u001b[1;32mIn[3], line 29\u001b[0m, in \u001b[0;36mmain\u001b[1;34m()\u001b[0m\n\u001b[0;32m     27\u001b[0m \u001b[39mdef\u001b[39;00m \u001b[39mmain\u001b[39m():\n\u001b[0;32m     28\u001b[0m \u001b[39m  \u001b[39m\u001b[39m\"\"\"Reads a speech from a URL and prints the statistics about the speech.\"\"\"\u001b[39;00m\n\u001b[1;32m---> 29\u001b[0m   \u001b[39mwith\u001b[39;00m \u001b[39mopen\u001b[39;49m(\u001b[39m'\u001b[39;49m\u001b[39mspeech.txt\u001b[39;49m\u001b[39m'\u001b[39;49m, \u001b[39m'\u001b[39;49m\u001b[39mr\u001b[39;49m\u001b[39m'\u001b[39;49m) \u001b[39mas\u001b[39;00m f:\n\u001b[0;32m     30\u001b[0m     speech \u001b[39m=\u001b[39m f\u001b[39m.\u001b[39mread()\n\u001b[0;32m     32\u001b[0m   word_count, character_count, average_word_length, average_sentence_length, word_distribution, ly_word_distribution, longest_words \u001b[39m=\u001b[39m get_speech_statistics(speech)\n",
      "File \u001b[1;32mc:\\Users\\SyedA\\mambaforge\\lib\\site-packages\\IPython\\core\\interactiveshell.py:284\u001b[0m, in \u001b[0;36m_modified_open\u001b[1;34m(file, *args, **kwargs)\u001b[0m\n\u001b[0;32m    277\u001b[0m \u001b[39mif\u001b[39;00m file \u001b[39min\u001b[39;00m {\u001b[39m0\u001b[39m, \u001b[39m1\u001b[39m, \u001b[39m2\u001b[39m}:\n\u001b[0;32m    278\u001b[0m     \u001b[39mraise\u001b[39;00m \u001b[39mValueError\u001b[39;00m(\n\u001b[0;32m    279\u001b[0m         \u001b[39mf\u001b[39m\u001b[39m\"\u001b[39m\u001b[39mIPython won\u001b[39m\u001b[39m'\u001b[39m\u001b[39mt let you open fd=\u001b[39m\u001b[39m{\u001b[39;00mfile\u001b[39m}\u001b[39;00m\u001b[39m by default \u001b[39m\u001b[39m\"\u001b[39m\n\u001b[0;32m    280\u001b[0m         \u001b[39m\"\u001b[39m\u001b[39mas it is likely to crash IPython. If you know what you are doing, \u001b[39m\u001b[39m\"\u001b[39m\n\u001b[0;32m    281\u001b[0m         \u001b[39m\"\u001b[39m\u001b[39myou can use builtins\u001b[39m\u001b[39m'\u001b[39m\u001b[39m open.\u001b[39m\u001b[39m\"\u001b[39m\n\u001b[0;32m    282\u001b[0m     )\n\u001b[1;32m--> 284\u001b[0m \u001b[39mreturn\u001b[39;00m io_open(file, \u001b[39m*\u001b[39margs, \u001b[39m*\u001b[39m\u001b[39m*\u001b[39mkwargs)\n",
      "\u001b[1;31mFileNotFoundError\u001b[0m: [Errno 2] No such file or directory: 'speech.txt'"
     ]
    }
   ],
   "source": [
    "import re\n",
    "\n",
    "def get_speech_statistics(speech):\n",
    "  \"\"\"Returns statistics about a speech, including the total word count, the total character count, average word length, average sentence length, a word distribution of all words, a word distribution of words ending in ‘ly’ and the top 10 longest words.\"\"\"\n",
    "  word_count = len(re.split(r'\\s+', speech))\n",
    "  character_count = sum(len(word) for word in re.split(r'\\s+', speech))\n",
    "  average_word_length = character_count / word_count\n",
    "  sentence_lengths = [len(sentence.split()) for sentence in speech.split('.')]\n",
    "  average_sentence_length = sum(sentence_lengths) / len(sentence_lengths)\n",
    "  word_distribution = {}\n",
    "  for word in re.split(r'\\s+', speech):\n",
    "    if word in word_distribution:\n",
    "      word_distribution[word] += 1\n",
    "    else:\n",
    "      word_distribution[word] = 1\n",
    "  ly_words = [word for word in word_distribution if word.endswith('ly')]\n",
    "  ly_word_distribution = {}\n",
    "  for word in ly_words:\n",
    "    if word in ly_word_distribution:\n",
    "      ly_word_distribution[word] += 1\n",
    "    else:\n",
    "      ly_word_distribution[word] = 1\n",
    "  longest_words = sorted(word_distribution, key=len, reverse=True)[:10]\n",
    "\n",
    "  return word_count, character_count, average_word_length, average_sentence_length, word_distribution, ly_word_distribution, longest_words\n",
    "\n",
    "def main():\n",
    "  \"\"\"Reads a speech from a URL and prints the statistics about the speech.\"\"\"\n",
    "  with open('speech.txt', 'r') as f:\n",
    "    speech = f.read()\n",
    "\n",
    "  word_count, character_count, average_word_length, average_sentence_length, word_distribution, ly_word_distribution, longest_words = get_speech_statistics(speech)\n",
    "\n",
    "  print('Word count:', word_count)\n",
    "  print('Character count:', character_count)\n",
    "  print('Average word length:', average_word_length)\n",
    "  print('Average sentence length:', average_sentence_length)\n",
    "  print('Word distribution:')\n",
    "  for word, count in word_distribution.items():\n",
    "    print(f'{word}: {count}')\n",
    "  print('Word distribution of words ending in “ly”:')\n",
    "  for word, count in ly_word_distribution.items():\n",
    "    print(f'{word}: {count}')\n",
    "  print('Top 10 longest words:')\n",
    "  for word in longest_words:\n",
    "    print(word)\n",
    "\n",
    "if __name__ == '__main__':\n",
    "  main()"
   ]
  },
  {
   "cell_type": "code",
   "execution_count": null,
   "metadata": {},
   "outputs": [],
   "source": []
  }
 ],
 "metadata": {
  "kernelspec": {
   "display_name": "base",
   "language": "python",
   "name": "python3"
  },
  "language_info": {
   "codemirror_mode": {
    "name": "ipython",
    "version": 3
   },
   "file_extension": ".py",
   "mimetype": "text/x-python",
   "name": "python",
   "nbconvert_exporter": "python",
   "pygments_lexer": "ipython3",
   "version": "3.10.12"
  },
  "orig_nbformat": 4
 },
 "nbformat": 4,
 "nbformat_minor": 2
}
