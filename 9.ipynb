{
 "cells": [
  {
   "cell_type": "code",
   "execution_count": 1,
   "metadata": {},
   "outputs": [
    {
     "name": "stdout",
     "output_type": "stream",
     "text": [
      "Tokens in reverse order: ['bone', 'the', 'ate', 'dog', 'The']\n",
      "Tokens beginning with the letter \"d\": ['dog']\n",
      "Tokens ending with the letters \"ing\": []\n"
     ]
    }
   ],
   "source": [
    "import re # import the regular expressions module\n",
    "\n",
    "def reverse_tokens_with_regex(text): # define a function called reverse_tokens_with_regex\n",
    "  \"\"\"Returns the tokens in reverse order using regular expressions.\"\"\" # docstring\n",
    "  pattern = r'\\w+' # define a pattern to match words\n",
    "  tokens = re.findall(pattern, text) # find all the words in the text\n",
    "  reversed_tokens = tokens[::-1] # reverse the order of the words\n",
    "  return reversed_tokens # return the reversed words\n",
    "\n",
    "def filter_tokens_starting_with_d_with_regex(text): # define a function called filter_tokens_starting_with_d_with_regex\n",
    "  \"\"\"Returns only those words beginning with the letter 'd' using regular expressions.\"\"\" # docstring\n",
    "  pattern = r'\\b[d]\\w+' # define a pattern to match words beginning with the letter 'd'\n",
    "  tokens = re.findall(pattern, text) # find all the words in the text\n",
    "  return tokens # return the words beginning with the letter 'd'\n",
    "\n",
    "def filter_tokens_ending_with_ing_with_regex(text): # define a function called filter_tokens_ending_with_ing_with_regex\n",
    "  \"\"\"Returns only those words ending with the letters 'ing' using regular expressions.\"\"\" # docstring\n",
    "  pattern = r'\\w+\\b[i]ng' # define a pattern to match words ending with the letters 'ing'\n",
    "  tokens = re.findall(pattern, text) # find all the words in the text\n",
    "  return tokens # return the words ending with the letters 'ing'\n",
    "\n",
    "def main(): # define a function called main\n",
    "  \"\"\"Reads a line of text as a string, tokenizes the string with the split() method,\n",
    "  passes the tokenized string list to each of the function mentioned above and prints\n",
    "  the return values from these functions.\"\"\" # docstring\n",
    "  text = 'The dog ate the bone.' # define a string called text\n",
    "  tokens = text.split() # split the string into a list of words\n",
    "\n",
    "  reversed_tokens = reverse_tokens_with_regex(text) # call the function reverse_tokens_with_regex\n",
    "  print('Tokens in reverse order:', reversed_tokens) # print the return value of the function\n",
    "\n",
    "  filtered_tokens_starting_with_d = filter_tokens_starting_with_d_with_regex(text) # call the function filter_tokens_starting_with_d_with_regex\n",
    "  print('Tokens beginning with the letter \"d\":', filtered_tokens_starting_with_d) # print the return value of the function\n",
    "\n",
    "  filtered_tokens_ending_with_ing = filter_tokens_ending_with_ing_with_regex(text) # call the function filter_tokens_ending_with_ing_with_regex\n",
    "  print('Tokens ending with the letters \"ing\":', filtered_tokens_ending_with_ing) # print the return value of the function\n",
    "\n",
    "if __name__ == '__main__': # if the name of the module is __main__\n",
    "  main() # call the main() function"
   ]
  },
  {
   "cell_type": "code",
   "execution_count": null,
   "metadata": {},
   "outputs": [],
   "source": []
  }
 ],
 "metadata": {
  "kernelspec": {
   "display_name": "base",
   "language": "python",
   "name": "python3"
  },
  "language_info": {
   "codemirror_mode": {
    "name": "ipython",
    "version": 3
   },
   "file_extension": ".py",
   "mimetype": "text/x-python",
   "name": "python",
   "nbconvert_exporter": "python",
   "pygments_lexer": "ipython3",
   "version": "3.10.12"
  },
  "orig_nbformat": 4
 },
 "nbformat": 4,
 "nbformat_minor": 2
}
