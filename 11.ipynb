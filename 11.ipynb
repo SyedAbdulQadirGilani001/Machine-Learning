{
 "cells": [
  {
   "cell_type": "code",
   "execution_count": 3,
   "metadata": {},
   "outputs": [
    {
     "name": "stdout",
     "output_type": "stream",
     "text": [
      "False\n"
     ]
    },
    {
     "data": {
      "text/plain": [
       "True"
      ]
     },
     "metadata": {},
     "output_type": "display_data"
    },
    {
     "data": {
      "text/plain": [
       "True"
      ]
     },
     "metadata": {},
     "output_type": "display_data"
    }
   ],
   "source": [
    "import re # import the regular expression module\n",
    "\n",
    "def is_valid_number(text): # define a function that takes a string as an argument\n",
    "  \"\"\"Returns True if the text matches a valid number, False otherwise.\"\"\" # docstring\n",
    "  pattern = r'^[-+]?\\d+\\.?\\d*$' # define a pattern\n",
    "  match = re.match(pattern, text) # match the pattern to the text\n",
    "  return bool(match) # return True if there is a match, False otherwise\n",
    "\n",
    "def main(): # define a main function\n",
    "  \"\"\"Reads a line of text as a string and prints whether the string matches a valid number.\"\"\"  # docstring for main\n",
    "  text = 'This is a valid number: 123.456' # define a string\n",
    "  print(is_valid_number(text)) # print the result of calling the function on the string\n",
    "\n",
    "if __name__ == '__main__': # if this script is run from the command line (not imported from another script)\n",
    "  main() # call the main function defined above\n",
    "display(is_valid_number('123.456')) # display the result of calling the function on a string\n",
    "display(is_valid_number('123')) # display the result of calling the function on a string"
   ]
  },
  {
   "cell_type": "code",
   "execution_count": null,
   "metadata": {},
   "outputs": [],
   "source": []
  }
 ],
 "metadata": {
  "kernelspec": {
   "display_name": "base",
   "language": "python",
   "name": "python3"
  },
  "language_info": {
   "codemirror_mode": {
    "name": "ipython",
    "version": 3
   },
   "file_extension": ".py",
   "mimetype": "text/x-python",
   "name": "python",
   "nbconvert_exporter": "python",
   "pygments_lexer": "ipython3",
   "version": "3.10.12"
  },
  "orig_nbformat": 4
 },
 "nbformat": 4,
 "nbformat_minor": 2
}
