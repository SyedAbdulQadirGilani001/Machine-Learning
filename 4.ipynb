{
 "cells": [
  {
   "cell_type": "code",
   "execution_count": 1,
   "metadata": {},
   "outputs": [
    {
     "data": {
      "text/plain": [
       "count    20.000000\n",
       "mean     33.900000\n",
       "std      30.542292\n",
       "min       1.000000\n",
       "25%       5.750000\n",
       "50%      26.500000\n",
       "75%      57.250000\n",
       "max      94.000000\n",
       "dtype: float64"
      ]
     },
     "metadata": {},
     "output_type": "display_data"
    },
    {
     "data": {
      "text/plain": [
       "0    2\n",
       "1    3\n",
       "2    5\n",
       "3    1\n",
       "dtype: int64"
      ]
     },
     "metadata": {},
     "output_type": "display_data"
    },
    {
     "data": {
      "text/plain": [
       "'------------------'"
      ]
     },
     "metadata": {},
     "output_type": "display_data"
    },
    {
     "data": {
      "text/plain": [
       "0    200\n",
       "1    200\n",
       "2    200\n",
       "3    200\n",
       "4    200\n",
       "dtype: int64"
      ]
     },
     "metadata": {},
     "output_type": "display_data"
    },
    {
     "name": "stdout",
     "output_type": "stream",
     "text": [
      "------------------\n",
      "0     57\n",
      "1     40\n",
      "2      2\n",
      "3     25\n",
      "4      1\n",
      "5      5\n",
      "6     14\n",
      "7     29\n",
      "8     66\n",
      "9     51\n",
      "10    91\n",
      "11    74\n",
      "12    28\n",
      "13    94\n",
      "14     4\n",
      "15    14\n",
      "16    58\n",
      "17     5\n",
      "18    14\n",
      "19     6\n",
      "dtype: int32\n",
      "------------------\n",
      "Julie       98.6\n",
      "Charlie     98.9\n",
      "Sam        100.2\n",
      "Andrea      97.9\n",
      "dtype: float64\n",
      "------------------\n",
      "Julie       98.6\n",
      "Charlie     98.9\n",
      "Sam        100.2\n",
      "Andrea      97.9\n",
      "dtype: float64\n"
     ]
    }
   ],
   "source": [
    "import numpy as np # linear algebra \n",
    "import pandas as pd # data processing, CSV file I/O (e.g. pd.read_csv)\n",
    "\n",
    "d = 2 # d = 2\n",
    "m = 3 # m = 3\n",
    "\n",
    "list_data = [d, m, d + m, m - d] # list_data = [2, 3, 5, 1]\n",
    "series_1 = pd.Series(list_data) # series_1 = [2, 3, 5, 1]\n",
    "\n",
    "series_2 = pd.Series([100 * d] * 5) # series_2 = [200, 200, 200, 200, 200]\n",
    "\n",
    "series_3 = pd.Series(np.random.randint(0, 100, d * 10)) # series_3 = [0, 1, 2, 3, 4, 5, 6, 7, 8, 9]\n",
    "display(series_3.describe()) # display the descriptive statistics of series_3\n",
    "\n",
    "names = ['Julie', 'Charlie', 'Sam', 'Andrea'] # names = ['Julie', 'Charlie', 'Sam', 'Andrea']\n",
    "values = [98.6, 98.9, 100.2, 97.9] # values = [98.6, 98.9, 100.2, 97.9]\n",
    "series_4 = pd.Series(values, index=names) # series_4 = [Julie: 98.6, Charlie: 98.9, Sam: 100.2, Andrea: 97.9]\n",
    "\n",
    "names = {'Julie': 98.6, 'Charlie': 98.9, 'Sam': 100.2, 'Andrea': 97.9} # names = {'Julie': 98.6, 'Charlie': 98.9, 'Sam': 100.2, 'Andrea': 97.9}\n",
    "series_5 = pd.Series(names) # series_5 = [Julie: 98.6, Charlie: 98.9, Sam: 100.2, Andrea: 97.9]\n",
    "\n",
    "display(series_1)  # display series_1\n",
    "display('------------------') # display a line\n",
    "display(series_2) # display series_2\n",
    "print('------------------') # display a line\n",
    "print(series_3) # print series_3\n",
    "print('------------------') # print a line\n",
    "print(series_4) # print series_4\n",
    "print('------------------') # print a line\n",
    "print(series_5) # print series_5"
   ]
  },
  {
   "cell_type": "code",
   "execution_count": null,
   "metadata": {},
   "outputs": [],
   "source": []
  }
 ],
 "metadata": {
  "kernelspec": {
   "display_name": "base",
   "language": "python",
   "name": "python3"
  },
  "language_info": {
   "codemirror_mode": {
    "name": "ipython",
    "version": 3
   },
   "file_extension": ".py",
   "mimetype": "text/x-python",
   "name": "python",
   "nbconvert_exporter": "python",
   "pygments_lexer": "ipython3",
   "version": "3.10.12"
  },
  "orig_nbformat": 4
 },
 "nbformat": 4,
 "nbformat_minor": 2
}
